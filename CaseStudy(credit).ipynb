{
  "nbformat": 4,
  "nbformat_minor": 0,
  "metadata": {
    "colab": {
      "name": "CaseStudy(credit).ipynb",
      "provenance": [],
      "collapsed_sections": []
    },
    "kernelspec": {
      "name": "python3",
      "display_name": "Python 3"
    },
    "language_info": {
      "name": "python"
    }
  },
  "cells": [
    {
      "cell_type": "code",
      "metadata": {
        "id": "5VGee0qBms92"
      },
      "source": [
        "import pandas as pd\n",
        "import numpy as np\n",
        "import  seaborn as sns\n",
        "import matplotlib.pyplot as plt\n",
        "from sklearn.model_selection import train_test_split\n",
        "from sklearn.preprocessing import StandardScaler"
      ],
      "execution_count": 7,
      "outputs": []
    },
    {
      "cell_type": "code",
      "metadata": {
        "id": "Rkc9xI2KnrIW"
      },
      "source": [
        "df=pd.read_csv(\"/content/sample_data/creditcard.csv\")"
      ],
      "execution_count": 8,
      "outputs": []
    },
    {
      "cell_type": "code",
      "metadata": {
        "colab": {
          "base_uri": "https://localhost:8080/",
          "height": 215
        },
        "id": "MigVW6PYnmUh",
        "outputId": "e59feb97-6417-4ed2-db54-d240ce8cf678"
      },
      "source": [
        "df.head()"
      ],
      "execution_count": 10,
      "outputs": [
        {
          "output_type": "execute_result",
          "data": {
            "text/html": [
              "<div>\n",
              "<style scoped>\n",
              "    .dataframe tbody tr th:only-of-type {\n",
              "        vertical-align: middle;\n",
              "    }\n",
              "\n",
              "    .dataframe tbody tr th {\n",
              "        vertical-align: top;\n",
              "    }\n",
              "\n",
              "    .dataframe thead th {\n",
              "        text-align: right;\n",
              "    }\n",
              "</style>\n",
              "<table border=\"1\" class=\"dataframe\">\n",
              "  <thead>\n",
              "    <tr style=\"text-align: right;\">\n",
              "      <th></th>\n",
              "      <th>Time</th>\n",
              "      <th>V1</th>\n",
              "      <th>V2</th>\n",
              "      <th>V3</th>\n",
              "      <th>V4</th>\n",
              "      <th>V5</th>\n",
              "      <th>V6</th>\n",
              "      <th>V7</th>\n",
              "      <th>V8</th>\n",
              "      <th>V9</th>\n",
              "      <th>V10</th>\n",
              "      <th>V11</th>\n",
              "      <th>V12</th>\n",
              "      <th>V13</th>\n",
              "      <th>V14</th>\n",
              "      <th>V15</th>\n",
              "      <th>V16</th>\n",
              "      <th>V17</th>\n",
              "      <th>V18</th>\n",
              "      <th>V19</th>\n",
              "      <th>V20</th>\n",
              "      <th>V21</th>\n",
              "      <th>V22</th>\n",
              "      <th>V23</th>\n",
              "      <th>V24</th>\n",
              "      <th>V25</th>\n",
              "      <th>V26</th>\n",
              "      <th>V27</th>\n",
              "      <th>V28</th>\n",
              "      <th>Amount</th>\n",
              "      <th>Class</th>\n",
              "    </tr>\n",
              "  </thead>\n",
              "  <tbody>\n",
              "    <tr>\n",
              "      <th>0</th>\n",
              "      <td>0</td>\n",
              "      <td>-1.359807</td>\n",
              "      <td>-0.072781</td>\n",
              "      <td>2.536347</td>\n",
              "      <td>1.378155</td>\n",
              "      <td>-0.338321</td>\n",
              "      <td>0.462388</td>\n",
              "      <td>0.239599</td>\n",
              "      <td>0.098698</td>\n",
              "      <td>0.363787</td>\n",
              "      <td>0.090794</td>\n",
              "      <td>-0.551600</td>\n",
              "      <td>-0.617801</td>\n",
              "      <td>-0.991390</td>\n",
              "      <td>-0.311169</td>\n",
              "      <td>1.468177</td>\n",
              "      <td>-0.470401</td>\n",
              "      <td>0.207971</td>\n",
              "      <td>0.025791</td>\n",
              "      <td>0.403993</td>\n",
              "      <td>0.251412</td>\n",
              "      <td>-0.018307</td>\n",
              "      <td>0.277838</td>\n",
              "      <td>-0.110474</td>\n",
              "      <td>0.066928</td>\n",
              "      <td>0.128539</td>\n",
              "      <td>-0.189115</td>\n",
              "      <td>0.133558</td>\n",
              "      <td>-0.021053</td>\n",
              "      <td>149.62</td>\n",
              "      <td>0.0</td>\n",
              "    </tr>\n",
              "    <tr>\n",
              "      <th>1</th>\n",
              "      <td>0</td>\n",
              "      <td>1.191857</td>\n",
              "      <td>0.266151</td>\n",
              "      <td>0.166480</td>\n",
              "      <td>0.448154</td>\n",
              "      <td>0.060018</td>\n",
              "      <td>-0.082361</td>\n",
              "      <td>-0.078803</td>\n",
              "      <td>0.085102</td>\n",
              "      <td>-0.255425</td>\n",
              "      <td>-0.166974</td>\n",
              "      <td>1.612727</td>\n",
              "      <td>1.065235</td>\n",
              "      <td>0.489095</td>\n",
              "      <td>-0.143772</td>\n",
              "      <td>0.635558</td>\n",
              "      <td>0.463917</td>\n",
              "      <td>-0.114805</td>\n",
              "      <td>-0.183361</td>\n",
              "      <td>-0.145783</td>\n",
              "      <td>-0.069083</td>\n",
              "      <td>-0.225775</td>\n",
              "      <td>-0.638672</td>\n",
              "      <td>0.101288</td>\n",
              "      <td>-0.339846</td>\n",
              "      <td>0.167170</td>\n",
              "      <td>0.125895</td>\n",
              "      <td>-0.008983</td>\n",
              "      <td>0.014724</td>\n",
              "      <td>2.69</td>\n",
              "      <td>0.0</td>\n",
              "    </tr>\n",
              "    <tr>\n",
              "      <th>2</th>\n",
              "      <td>1</td>\n",
              "      <td>-1.358354</td>\n",
              "      <td>-1.340163</td>\n",
              "      <td>1.773209</td>\n",
              "      <td>0.379780</td>\n",
              "      <td>-0.503198</td>\n",
              "      <td>1.800499</td>\n",
              "      <td>0.791461</td>\n",
              "      <td>0.247676</td>\n",
              "      <td>-1.514654</td>\n",
              "      <td>0.207643</td>\n",
              "      <td>0.624501</td>\n",
              "      <td>0.066084</td>\n",
              "      <td>0.717293</td>\n",
              "      <td>-0.165946</td>\n",
              "      <td>2.345865</td>\n",
              "      <td>-2.890083</td>\n",
              "      <td>1.109969</td>\n",
              "      <td>-0.121359</td>\n",
              "      <td>-2.261857</td>\n",
              "      <td>0.524980</td>\n",
              "      <td>0.247998</td>\n",
              "      <td>0.771679</td>\n",
              "      <td>0.909412</td>\n",
              "      <td>-0.689281</td>\n",
              "      <td>-0.327642</td>\n",
              "      <td>-0.139097</td>\n",
              "      <td>-0.055353</td>\n",
              "      <td>-0.059752</td>\n",
              "      <td>378.66</td>\n",
              "      <td>0.0</td>\n",
              "    </tr>\n",
              "    <tr>\n",
              "      <th>3</th>\n",
              "      <td>1</td>\n",
              "      <td>-0.966272</td>\n",
              "      <td>-0.185226</td>\n",
              "      <td>1.792993</td>\n",
              "      <td>-0.863291</td>\n",
              "      <td>-0.010309</td>\n",
              "      <td>1.247203</td>\n",
              "      <td>0.237609</td>\n",
              "      <td>0.377436</td>\n",
              "      <td>-1.387024</td>\n",
              "      <td>-0.054952</td>\n",
              "      <td>-0.226487</td>\n",
              "      <td>0.178228</td>\n",
              "      <td>0.507757</td>\n",
              "      <td>-0.287924</td>\n",
              "      <td>-0.631418</td>\n",
              "      <td>-1.059647</td>\n",
              "      <td>-0.684093</td>\n",
              "      <td>1.965775</td>\n",
              "      <td>-1.232622</td>\n",
              "      <td>-0.208038</td>\n",
              "      <td>-0.108300</td>\n",
              "      <td>0.005274</td>\n",
              "      <td>-0.190321</td>\n",
              "      <td>-1.175575</td>\n",
              "      <td>0.647376</td>\n",
              "      <td>-0.221929</td>\n",
              "      <td>0.062723</td>\n",
              "      <td>0.061458</td>\n",
              "      <td>123.50</td>\n",
              "      <td>0.0</td>\n",
              "    </tr>\n",
              "    <tr>\n",
              "      <th>4</th>\n",
              "      <td>2</td>\n",
              "      <td>-1.158233</td>\n",
              "      <td>0.877737</td>\n",
              "      <td>1.548718</td>\n",
              "      <td>0.403034</td>\n",
              "      <td>-0.407193</td>\n",
              "      <td>0.095921</td>\n",
              "      <td>0.592941</td>\n",
              "      <td>-0.270533</td>\n",
              "      <td>0.817739</td>\n",
              "      <td>0.753074</td>\n",
              "      <td>-0.822843</td>\n",
              "      <td>0.538196</td>\n",
              "      <td>1.345852</td>\n",
              "      <td>-1.119670</td>\n",
              "      <td>0.175121</td>\n",
              "      <td>-0.451449</td>\n",
              "      <td>-0.237033</td>\n",
              "      <td>-0.038195</td>\n",
              "      <td>0.803487</td>\n",
              "      <td>0.408542</td>\n",
              "      <td>-0.009431</td>\n",
              "      <td>0.798278</td>\n",
              "      <td>-0.137458</td>\n",
              "      <td>0.141267</td>\n",
              "      <td>-0.206010</td>\n",
              "      <td>0.502292</td>\n",
              "      <td>0.219422</td>\n",
              "      <td>0.215153</td>\n",
              "      <td>69.99</td>\n",
              "      <td>0.0</td>\n",
              "    </tr>\n",
              "  </tbody>\n",
              "</table>\n",
              "</div>"
            ],
            "text/plain": [
              "   Time        V1        V2        V3  ...       V27       V28  Amount  Class\n",
              "0     0 -1.359807 -0.072781  2.536347  ...  0.133558 -0.021053  149.62    0.0\n",
              "1     0  1.191857  0.266151  0.166480  ... -0.008983  0.014724    2.69    0.0\n",
              "2     1 -1.358354 -1.340163  1.773209  ... -0.055353 -0.059752  378.66    0.0\n",
              "3     1 -0.966272 -0.185226  1.792993  ...  0.062723  0.061458  123.50    0.0\n",
              "4     2 -1.158233  0.877737  1.548718  ...  0.219422  0.215153   69.99    0.0\n",
              "\n",
              "[5 rows x 31 columns]"
            ]
          },
          "metadata": {
            "tags": []
          },
          "execution_count": 10
        }
      ]
    },
    {
      "cell_type": "code",
      "metadata": {
        "colab": {
          "base_uri": "https://localhost:8080/"
        },
        "id": "GgSPJ_dInmXV",
        "outputId": "2495fc07-75d3-467c-8f96-17e87aa13b4c"
      },
      "source": [
        "df.shape"
      ],
      "execution_count": 11,
      "outputs": [
        {
          "output_type": "execute_result",
          "data": {
            "text/plain": [
              "(75671, 31)"
            ]
          },
          "metadata": {
            "tags": []
          },
          "execution_count": 11
        }
      ]
    },
    {
      "cell_type": "code",
      "metadata": {
        "colab": {
          "base_uri": "https://localhost:8080/"
        },
        "id": "UjgbJfv2nmaJ",
        "outputId": "acb4c54f-b5b2-4006-8d8e-5c920b307727"
      },
      "source": [
        "df.isnull().sum()"
      ],
      "execution_count": 12,
      "outputs": [
        {
          "output_type": "execute_result",
          "data": {
            "text/plain": [
              "Time      0\n",
              "V1        0\n",
              "V2        0\n",
              "V3        0\n",
              "V4        0\n",
              "V5        0\n",
              "V6        0\n",
              "V7        0\n",
              "V8        0\n",
              "V9        0\n",
              "V10       0\n",
              "V11       0\n",
              "V12       0\n",
              "V13       0\n",
              "V14       0\n",
              "V15       0\n",
              "V16       0\n",
              "V17       1\n",
              "V18       1\n",
              "V19       1\n",
              "V20       1\n",
              "V21       1\n",
              "V22       1\n",
              "V23       1\n",
              "V24       1\n",
              "V25       1\n",
              "V26       1\n",
              "V27       1\n",
              "V28       1\n",
              "Amount    1\n",
              "Class     1\n",
              "dtype: int64"
            ]
          },
          "metadata": {
            "tags": []
          },
          "execution_count": 12
        }
      ]
    },
    {
      "cell_type": "code",
      "metadata": {
        "colab": {
          "base_uri": "https://localhost:8080/"
        },
        "id": "xCYiQufHnmcs",
        "outputId": "9b5b2aab-5cdf-4146-f1d3-90e4d14956d6"
      },
      "source": [
        "df.info()"
      ],
      "execution_count": 13,
      "outputs": [
        {
          "output_type": "stream",
          "text": [
            "<class 'pandas.core.frame.DataFrame'>\n",
            "RangeIndex: 75671 entries, 0 to 75670\n",
            "Data columns (total 31 columns):\n",
            " #   Column  Non-Null Count  Dtype  \n",
            "---  ------  --------------  -----  \n",
            " 0   Time    75671 non-null  int64  \n",
            " 1   V1      75671 non-null  float64\n",
            " 2   V2      75671 non-null  float64\n",
            " 3   V3      75671 non-null  float64\n",
            " 4   V4      75671 non-null  float64\n",
            " 5   V5      75671 non-null  float64\n",
            " 6   V6      75671 non-null  float64\n",
            " 7   V7      75671 non-null  float64\n",
            " 8   V8      75671 non-null  float64\n",
            " 9   V9      75671 non-null  float64\n",
            " 10  V10     75671 non-null  float64\n",
            " 11  V11     75671 non-null  float64\n",
            " 12  V12     75671 non-null  float64\n",
            " 13  V13     75671 non-null  float64\n",
            " 14  V14     75671 non-null  float64\n",
            " 15  V15     75671 non-null  float64\n",
            " 16  V16     75671 non-null  float64\n",
            " 17  V17     75670 non-null  float64\n",
            " 18  V18     75670 non-null  float64\n",
            " 19  V19     75670 non-null  float64\n",
            " 20  V20     75670 non-null  float64\n",
            " 21  V21     75670 non-null  float64\n",
            " 22  V22     75670 non-null  float64\n",
            " 23  V23     75670 non-null  float64\n",
            " 24  V24     75670 non-null  float64\n",
            " 25  V25     75670 non-null  float64\n",
            " 26  V26     75670 non-null  float64\n",
            " 27  V27     75670 non-null  float64\n",
            " 28  V28     75670 non-null  float64\n",
            " 29  Amount  75670 non-null  float64\n",
            " 30  Class   75670 non-null  float64\n",
            "dtypes: float64(30), int64(1)\n",
            "memory usage: 17.9 MB\n"
          ],
          "name": "stdout"
        }
      ]
    },
    {
      "cell_type": "code",
      "metadata": {
        "colab": {
          "base_uri": "https://localhost:8080/"
        },
        "id": "sG-GuRfVnmfn",
        "outputId": "07d9bf8f-72a2-4875-f38d-3741153fcc02"
      },
      "source": [
        "df[\"Class\"].value_counts()"
      ],
      "execution_count": 14,
      "outputs": [
        {
          "output_type": "execute_result",
          "data": {
            "text/plain": [
              "0.0    75486\n",
              "1.0      184\n",
              "Name: Class, dtype: int64"
            ]
          },
          "metadata": {
            "tags": []
          },
          "execution_count": 14
        }
      ]
    },
    {
      "cell_type": "code",
      "metadata": {
        "id": "V8Oow-1LnmiD"
      },
      "source": [
        "non_fraud = df[df['Class']==0]\n",
        "fraud = df[df['Class']==1]"
      ],
      "execution_count": 16,
      "outputs": []
    },
    {
      "cell_type": "code",
      "metadata": {
        "colab": {
          "base_uri": "https://localhost:8080/"
        },
        "id": "KlZ13O_Go1Hk",
        "outputId": "cde20178-c80c-4136-b7bf-0b8cc6e0400c"
      },
      "source": [
        "non_fraud.shape, fraud.shape"
      ],
      "execution_count": 17,
      "outputs": [
        {
          "output_type": "execute_result",
          "data": {
            "text/plain": [
              "((75486, 31), (184, 31))"
            ]
          },
          "metadata": {
            "tags": []
          },
          "execution_count": 17
        }
      ]
    },
    {
      "cell_type": "code",
      "metadata": {
        "colab": {
          "base_uri": "https://localhost:8080/"
        },
        "id": "qpteQlOoo1NG",
        "outputId": "88eb95e2-e290-4a55-82ae-e23108d9abec"
      },
      "source": [
        "non_fraud = non_fraud.sample(fraud.shape[0])\n",
        "non_fraud.shape"
      ],
      "execution_count": 18,
      "outputs": [
        {
          "output_type": "execute_result",
          "data": {
            "text/plain": [
              "(184, 31)"
            ]
          },
          "metadata": {
            "tags": []
          },
          "execution_count": 18
        }
      ]
    },
    {
      "cell_type": "code",
      "metadata": {
        "colab": {
          "base_uri": "https://localhost:8080/",
          "height": 422
        },
        "id": "cujygWImo1PA",
        "outputId": "cd3d49e4-83d6-45fb-9be7-4dce69dec897"
      },
      "source": [
        "df = fraud.append(non_fraud, ignore_index=True)\n",
        "df"
      ],
      "execution_count": 19,
      "outputs": [
        {
          "output_type": "execute_result",
          "data": {
            "text/html": [
              "<div>\n",
              "<style scoped>\n",
              "    .dataframe tbody tr th:only-of-type {\n",
              "        vertical-align: middle;\n",
              "    }\n",
              "\n",
              "    .dataframe tbody tr th {\n",
              "        vertical-align: top;\n",
              "    }\n",
              "\n",
              "    .dataframe thead th {\n",
              "        text-align: right;\n",
              "    }\n",
              "</style>\n",
              "<table border=\"1\" class=\"dataframe\">\n",
              "  <thead>\n",
              "    <tr style=\"text-align: right;\">\n",
              "      <th></th>\n",
              "      <th>Time</th>\n",
              "      <th>V1</th>\n",
              "      <th>V2</th>\n",
              "      <th>V3</th>\n",
              "      <th>V4</th>\n",
              "      <th>V5</th>\n",
              "      <th>V6</th>\n",
              "      <th>V7</th>\n",
              "      <th>V8</th>\n",
              "      <th>V9</th>\n",
              "      <th>V10</th>\n",
              "      <th>V11</th>\n",
              "      <th>V12</th>\n",
              "      <th>V13</th>\n",
              "      <th>V14</th>\n",
              "      <th>V15</th>\n",
              "      <th>V16</th>\n",
              "      <th>V17</th>\n",
              "      <th>V18</th>\n",
              "      <th>V19</th>\n",
              "      <th>V20</th>\n",
              "      <th>V21</th>\n",
              "      <th>V22</th>\n",
              "      <th>V23</th>\n",
              "      <th>V24</th>\n",
              "      <th>V25</th>\n",
              "      <th>V26</th>\n",
              "      <th>V27</th>\n",
              "      <th>V28</th>\n",
              "      <th>Amount</th>\n",
              "      <th>Class</th>\n",
              "    </tr>\n",
              "  </thead>\n",
              "  <tbody>\n",
              "    <tr>\n",
              "      <th>0</th>\n",
              "      <td>406</td>\n",
              "      <td>-2.312227</td>\n",
              "      <td>1.951992</td>\n",
              "      <td>-1.609851</td>\n",
              "      <td>3.997906</td>\n",
              "      <td>-0.522188</td>\n",
              "      <td>-1.426545</td>\n",
              "      <td>-2.537387</td>\n",
              "      <td>1.391657</td>\n",
              "      <td>-2.770089</td>\n",
              "      <td>-2.772272</td>\n",
              "      <td>3.202033</td>\n",
              "      <td>-2.899907</td>\n",
              "      <td>-0.595222</td>\n",
              "      <td>-4.289254</td>\n",
              "      <td>0.389724</td>\n",
              "      <td>-1.140747</td>\n",
              "      <td>-2.830056</td>\n",
              "      <td>-0.016822</td>\n",
              "      <td>0.416956</td>\n",
              "      <td>0.126911</td>\n",
              "      <td>0.517232</td>\n",
              "      <td>-0.035049</td>\n",
              "      <td>-0.465211</td>\n",
              "      <td>0.320198</td>\n",
              "      <td>0.044519</td>\n",
              "      <td>0.177840</td>\n",
              "      <td>0.261145</td>\n",
              "      <td>-0.143276</td>\n",
              "      <td>0.00</td>\n",
              "      <td>1.0</td>\n",
              "    </tr>\n",
              "    <tr>\n",
              "      <th>1</th>\n",
              "      <td>472</td>\n",
              "      <td>-3.043541</td>\n",
              "      <td>-3.157307</td>\n",
              "      <td>1.088463</td>\n",
              "      <td>2.288644</td>\n",
              "      <td>1.359805</td>\n",
              "      <td>-1.064823</td>\n",
              "      <td>0.325574</td>\n",
              "      <td>-0.067794</td>\n",
              "      <td>-0.270953</td>\n",
              "      <td>-0.838587</td>\n",
              "      <td>-0.414575</td>\n",
              "      <td>-0.503141</td>\n",
              "      <td>0.676502</td>\n",
              "      <td>-1.692029</td>\n",
              "      <td>2.000635</td>\n",
              "      <td>0.666780</td>\n",
              "      <td>0.599717</td>\n",
              "      <td>1.725321</td>\n",
              "      <td>0.283345</td>\n",
              "      <td>2.102339</td>\n",
              "      <td>0.661696</td>\n",
              "      <td>0.435477</td>\n",
              "      <td>1.375966</td>\n",
              "      <td>-0.293803</td>\n",
              "      <td>0.279798</td>\n",
              "      <td>-0.145362</td>\n",
              "      <td>-0.252773</td>\n",
              "      <td>0.035764</td>\n",
              "      <td>529.00</td>\n",
              "      <td>1.0</td>\n",
              "    </tr>\n",
              "    <tr>\n",
              "      <th>2</th>\n",
              "      <td>4462</td>\n",
              "      <td>-2.303350</td>\n",
              "      <td>1.759247</td>\n",
              "      <td>-0.359745</td>\n",
              "      <td>2.330243</td>\n",
              "      <td>-0.821628</td>\n",
              "      <td>-0.075788</td>\n",
              "      <td>0.562320</td>\n",
              "      <td>-0.399147</td>\n",
              "      <td>-0.238253</td>\n",
              "      <td>-1.525412</td>\n",
              "      <td>2.032912</td>\n",
              "      <td>-6.560124</td>\n",
              "      <td>0.022937</td>\n",
              "      <td>-1.470102</td>\n",
              "      <td>-0.698826</td>\n",
              "      <td>-2.282194</td>\n",
              "      <td>-4.781831</td>\n",
              "      <td>-2.615665</td>\n",
              "      <td>-1.334441</td>\n",
              "      <td>-0.430022</td>\n",
              "      <td>-0.294166</td>\n",
              "      <td>-0.932391</td>\n",
              "      <td>0.172726</td>\n",
              "      <td>-0.087330</td>\n",
              "      <td>-0.156114</td>\n",
              "      <td>-0.542628</td>\n",
              "      <td>0.039566</td>\n",
              "      <td>-0.153029</td>\n",
              "      <td>239.93</td>\n",
              "      <td>1.0</td>\n",
              "    </tr>\n",
              "    <tr>\n",
              "      <th>3</th>\n",
              "      <td>6986</td>\n",
              "      <td>-4.397974</td>\n",
              "      <td>1.358367</td>\n",
              "      <td>-2.592844</td>\n",
              "      <td>2.679787</td>\n",
              "      <td>-1.128131</td>\n",
              "      <td>-1.706536</td>\n",
              "      <td>-3.496197</td>\n",
              "      <td>-0.248778</td>\n",
              "      <td>-0.247768</td>\n",
              "      <td>-4.801637</td>\n",
              "      <td>4.895844</td>\n",
              "      <td>-10.912819</td>\n",
              "      <td>0.184372</td>\n",
              "      <td>-6.771097</td>\n",
              "      <td>-0.007326</td>\n",
              "      <td>-7.358083</td>\n",
              "      <td>-12.598419</td>\n",
              "      <td>-5.131549</td>\n",
              "      <td>0.308334</td>\n",
              "      <td>-0.171608</td>\n",
              "      <td>0.573574</td>\n",
              "      <td>0.176968</td>\n",
              "      <td>-0.436207</td>\n",
              "      <td>-0.053502</td>\n",
              "      <td>0.252405</td>\n",
              "      <td>-0.657488</td>\n",
              "      <td>-0.827136</td>\n",
              "      <td>0.849573</td>\n",
              "      <td>59.00</td>\n",
              "      <td>1.0</td>\n",
              "    </tr>\n",
              "    <tr>\n",
              "      <th>4</th>\n",
              "      <td>7519</td>\n",
              "      <td>1.234235</td>\n",
              "      <td>3.019740</td>\n",
              "      <td>-4.304597</td>\n",
              "      <td>4.732795</td>\n",
              "      <td>3.624201</td>\n",
              "      <td>-1.357746</td>\n",
              "      <td>1.713445</td>\n",
              "      <td>-0.496358</td>\n",
              "      <td>-1.282858</td>\n",
              "      <td>-2.447469</td>\n",
              "      <td>2.101344</td>\n",
              "      <td>-4.609628</td>\n",
              "      <td>1.464378</td>\n",
              "      <td>-6.079337</td>\n",
              "      <td>-0.339237</td>\n",
              "      <td>2.581851</td>\n",
              "      <td>6.739384</td>\n",
              "      <td>3.042493</td>\n",
              "      <td>-2.721853</td>\n",
              "      <td>0.009061</td>\n",
              "      <td>-0.379068</td>\n",
              "      <td>-0.704181</td>\n",
              "      <td>-0.656805</td>\n",
              "      <td>-1.632653</td>\n",
              "      <td>1.488901</td>\n",
              "      <td>0.566797</td>\n",
              "      <td>-0.010016</td>\n",
              "      <td>0.146793</td>\n",
              "      <td>1.00</td>\n",
              "      <td>1.0</td>\n",
              "    </tr>\n",
              "    <tr>\n",
              "      <th>...</th>\n",
              "      <td>...</td>\n",
              "      <td>...</td>\n",
              "      <td>...</td>\n",
              "      <td>...</td>\n",
              "      <td>...</td>\n",
              "      <td>...</td>\n",
              "      <td>...</td>\n",
              "      <td>...</td>\n",
              "      <td>...</td>\n",
              "      <td>...</td>\n",
              "      <td>...</td>\n",
              "      <td>...</td>\n",
              "      <td>...</td>\n",
              "      <td>...</td>\n",
              "      <td>...</td>\n",
              "      <td>...</td>\n",
              "      <td>...</td>\n",
              "      <td>...</td>\n",
              "      <td>...</td>\n",
              "      <td>...</td>\n",
              "      <td>...</td>\n",
              "      <td>...</td>\n",
              "      <td>...</td>\n",
              "      <td>...</td>\n",
              "      <td>...</td>\n",
              "      <td>...</td>\n",
              "      <td>...</td>\n",
              "      <td>...</td>\n",
              "      <td>...</td>\n",
              "      <td>...</td>\n",
              "      <td>...</td>\n",
              "    </tr>\n",
              "    <tr>\n",
              "      <th>363</th>\n",
              "      <td>46083</td>\n",
              "      <td>-0.795755</td>\n",
              "      <td>0.440031</td>\n",
              "      <td>2.043941</td>\n",
              "      <td>-1.388290</td>\n",
              "      <td>-0.357002</td>\n",
              "      <td>-0.086266</td>\n",
              "      <td>0.197000</td>\n",
              "      <td>0.398692</td>\n",
              "      <td>0.009195</td>\n",
              "      <td>-0.659577</td>\n",
              "      <td>1.281673</td>\n",
              "      <td>0.055513</td>\n",
              "      <td>-1.292995</td>\n",
              "      <td>0.271253</td>\n",
              "      <td>0.456777</td>\n",
              "      <td>0.771275</td>\n",
              "      <td>-0.626860</td>\n",
              "      <td>-0.026542</td>\n",
              "      <td>-0.829247</td>\n",
              "      <td>0.024125</td>\n",
              "      <td>-0.051250</td>\n",
              "      <td>-0.246427</td>\n",
              "      <td>-0.057119</td>\n",
              "      <td>0.020412</td>\n",
              "      <td>0.047432</td>\n",
              "      <td>0.819550</td>\n",
              "      <td>0.126226</td>\n",
              "      <td>0.014257</td>\n",
              "      <td>30.00</td>\n",
              "      <td>0.0</td>\n",
              "    </tr>\n",
              "    <tr>\n",
              "      <th>364</th>\n",
              "      <td>55059</td>\n",
              "      <td>1.193228</td>\n",
              "      <td>0.156830</td>\n",
              "      <td>0.606373</td>\n",
              "      <td>0.655208</td>\n",
              "      <td>-0.518735</td>\n",
              "      <td>-0.727202</td>\n",
              "      <td>-0.058484</td>\n",
              "      <td>-0.046243</td>\n",
              "      <td>0.130158</td>\n",
              "      <td>-0.088819</td>\n",
              "      <td>0.172256</td>\n",
              "      <td>0.171530</td>\n",
              "      <td>-0.496637</td>\n",
              "      <td>0.433498</td>\n",
              "      <td>1.340525</td>\n",
              "      <td>-0.050434</td>\n",
              "      <td>0.016104</td>\n",
              "      <td>-1.007658</td>\n",
              "      <td>-0.595510</td>\n",
              "      <td>-0.182300</td>\n",
              "      <td>-0.216674</td>\n",
              "      <td>-0.630139</td>\n",
              "      <td>0.215027</td>\n",
              "      <td>0.374861</td>\n",
              "      <td>0.076107</td>\n",
              "      <td>0.106484</td>\n",
              "      <td>-0.016984</td>\n",
              "      <td>0.017375</td>\n",
              "      <td>1.98</td>\n",
              "      <td>0.0</td>\n",
              "    </tr>\n",
              "    <tr>\n",
              "      <th>365</th>\n",
              "      <td>311</td>\n",
              "      <td>1.182238</td>\n",
              "      <td>-0.147518</td>\n",
              "      <td>1.248518</td>\n",
              "      <td>0.862034</td>\n",
              "      <td>-1.076728</td>\n",
              "      <td>-0.299690</td>\n",
              "      <td>-0.614840</td>\n",
              "      <td>0.064575</td>\n",
              "      <td>0.907341</td>\n",
              "      <td>-0.244554</td>\n",
              "      <td>-0.705757</td>\n",
              "      <td>0.523098</td>\n",
              "      <td>0.199033</td>\n",
              "      <td>-0.437902</td>\n",
              "      <td>0.182824</td>\n",
              "      <td>0.155472</td>\n",
              "      <td>-0.183114</td>\n",
              "      <td>-0.254955</td>\n",
              "      <td>-0.041502</td>\n",
              "      <td>-0.091273</td>\n",
              "      <td>-0.090194</td>\n",
              "      <td>-0.057346</td>\n",
              "      <td>0.030121</td>\n",
              "      <td>0.438310</td>\n",
              "      <td>0.259808</td>\n",
              "      <td>0.315896</td>\n",
              "      <td>0.017962</td>\n",
              "      <td>0.027611</td>\n",
              "      <td>8.58</td>\n",
              "      <td>0.0</td>\n",
              "    </tr>\n",
              "    <tr>\n",
              "      <th>366</th>\n",
              "      <td>53167</td>\n",
              "      <td>-7.917748</td>\n",
              "      <td>-5.989647</td>\n",
              "      <td>-0.706832</td>\n",
              "      <td>2.133132</td>\n",
              "      <td>-1.408025</td>\n",
              "      <td>-0.125536</td>\n",
              "      <td>-0.835730</td>\n",
              "      <td>1.010677</td>\n",
              "      <td>-0.620578</td>\n",
              "      <td>0.884091</td>\n",
              "      <td>0.777950</td>\n",
              "      <td>0.858188</td>\n",
              "      <td>0.537689</td>\n",
              "      <td>0.450344</td>\n",
              "      <td>0.917638</td>\n",
              "      <td>-0.813977</td>\n",
              "      <td>0.460783</td>\n",
              "      <td>1.882998</td>\n",
              "      <td>-0.406698</td>\n",
              "      <td>-1.054960</td>\n",
              "      <td>-0.536171</td>\n",
              "      <td>-0.319266</td>\n",
              "      <td>-1.742833</td>\n",
              "      <td>0.250993</td>\n",
              "      <td>0.033812</td>\n",
              "      <td>-0.182814</td>\n",
              "      <td>0.616136</td>\n",
              "      <td>-1.139326</td>\n",
              "      <td>215.98</td>\n",
              "      <td>0.0</td>\n",
              "    </tr>\n",
              "    <tr>\n",
              "      <th>367</th>\n",
              "      <td>3670</td>\n",
              "      <td>-0.997411</td>\n",
              "      <td>0.308922</td>\n",
              "      <td>2.098348</td>\n",
              "      <td>-0.672282</td>\n",
              "      <td>0.927175</td>\n",
              "      <td>-1.278994</td>\n",
              "      <td>0.716706</td>\n",
              "      <td>-0.300129</td>\n",
              "      <td>1.060173</td>\n",
              "      <td>-1.170150</td>\n",
              "      <td>1.157523</td>\n",
              "      <td>-2.081163</td>\n",
              "      <td>1.759087</td>\n",
              "      <td>1.325488</td>\n",
              "      <td>-0.749928</td>\n",
              "      <td>0.267623</td>\n",
              "      <td>0.026864</td>\n",
              "      <td>-0.938692</td>\n",
              "      <td>-2.459374</td>\n",
              "      <td>-0.098811</td>\n",
              "      <td>-0.232219</td>\n",
              "      <td>-0.521714</td>\n",
              "      <td>0.183394</td>\n",
              "      <td>0.516041</td>\n",
              "      <td>-0.509787</td>\n",
              "      <td>-0.347719</td>\n",
              "      <td>-0.145652</td>\n",
              "      <td>-0.082397</td>\n",
              "      <td>13.99</td>\n",
              "      <td>0.0</td>\n",
              "    </tr>\n",
              "  </tbody>\n",
              "</table>\n",
              "<p>368 rows × 31 columns</p>\n",
              "</div>"
            ],
            "text/plain": [
              "      Time        V1        V2        V3  ...       V27       V28  Amount  Class\n",
              "0      406 -2.312227  1.951992 -1.609851  ...  0.261145 -0.143276    0.00    1.0\n",
              "1      472 -3.043541 -3.157307  1.088463  ... -0.252773  0.035764  529.00    1.0\n",
              "2     4462 -2.303350  1.759247 -0.359745  ...  0.039566 -0.153029  239.93    1.0\n",
              "3     6986 -4.397974  1.358367 -2.592844  ... -0.827136  0.849573   59.00    1.0\n",
              "4     7519  1.234235  3.019740 -4.304597  ... -0.010016  0.146793    1.00    1.0\n",
              "..     ...       ...       ...       ...  ...       ...       ...     ...    ...\n",
              "363  46083 -0.795755  0.440031  2.043941  ...  0.126226  0.014257   30.00    0.0\n",
              "364  55059  1.193228  0.156830  0.606373  ... -0.016984  0.017375    1.98    0.0\n",
              "365    311  1.182238 -0.147518  1.248518  ...  0.017962  0.027611    8.58    0.0\n",
              "366  53167 -7.917748 -5.989647 -0.706832  ...  0.616136 -1.139326  215.98    0.0\n",
              "367   3670 -0.997411  0.308922  2.098348  ... -0.145652 -0.082397   13.99    0.0\n",
              "\n",
              "[368 rows x 31 columns]"
            ]
          },
          "metadata": {
            "tags": []
          },
          "execution_count": 19
        }
      ]
    },
    {
      "cell_type": "code",
      "metadata": {
        "colab": {
          "base_uri": "https://localhost:8080/"
        },
        "id": "CpjRUmXFo1Qc",
        "outputId": "e22cc40f-0f8c-4361-c342-b82722ad7062"
      },
      "source": [
        "df['Class'].value_counts()"
      ],
      "execution_count": 20,
      "outputs": [
        {
          "output_type": "execute_result",
          "data": {
            "text/plain": [
              "0.0    184\n",
              "1.0    184\n",
              "Name: Class, dtype: int64"
            ]
          },
          "metadata": {
            "tags": []
          },
          "execution_count": 20
        }
      ]
    },
    {
      "cell_type": "code",
      "metadata": {
        "id": "lbABiYyeo1Tj"
      },
      "source": [
        "X = df.drop('Class', axis = 1)\n",
        "y = df['Class']"
      ],
      "execution_count": 21,
      "outputs": []
    },
    {
      "cell_type": "code",
      "metadata": {
        "id": "F6pqRtV7o1W5"
      },
      "source": [
        "X_train, X_test, y_train, y_test = train_test_split(X, y, test_size = 0.2, \n",
        "                                                    random_state = 0, stratify = y)"
      ],
      "execution_count": 22,
      "outputs": []
    },
    {
      "cell_type": "code",
      "metadata": {
        "colab": {
          "base_uri": "https://localhost:8080/"
        },
        "id": "pOYxSY_3o1Y_",
        "outputId": "32a6c736-ff6d-447b-c15e-22cbbb21f5b0"
      },
      "source": [
        "X_train.shape, X_test.shape"
      ],
      "execution_count": 23,
      "outputs": [
        {
          "output_type": "execute_result",
          "data": {
            "text/plain": [
              "((294, 30), (74, 30))"
            ]
          },
          "metadata": {
            "tags": []
          },
          "execution_count": 23
        }
      ]
    },
    {
      "cell_type": "code",
      "metadata": {
        "id": "VhwhNxoynmlc"
      },
      "source": [
        "scaler = StandardScaler()\n",
        "X_train = scaler.fit_transform(X_train)\n",
        "X_test = scaler.transform(X_test)"
      ],
      "execution_count": 24,
      "outputs": []
    },
    {
      "cell_type": "code",
      "metadata": {
        "id": "0MUJzBgApmVz"
      },
      "source": [
        "y_train = np.array(y_train)\n",
        "y_test=np.array(y_test)\n"
      ],
      "execution_count": 25,
      "outputs": []
    },
    {
      "cell_type": "code",
      "metadata": {
        "colab": {
          "base_uri": "https://localhost:8080/"
        },
        "id": "80KkatjBpmYU",
        "outputId": "491e6ea5-1b08-4a51-b25b-ea6fc4eb799f"
      },
      "source": [
        "X_train.shape"
      ],
      "execution_count": 26,
      "outputs": [
        {
          "output_type": "execute_result",
          "data": {
            "text/plain": [
              "(294, 30)"
            ]
          },
          "metadata": {
            "tags": []
          },
          "execution_count": 26
        }
      ]
    },
    {
      "cell_type": "code",
      "metadata": {
        "id": "ueZZv3aQpmbM"
      },
      "source": [
        "X_train = X_train.reshape(X_train.shape[0], X_train.shape[1], 1)\n",
        "X_test = X_test.reshape(X_test.shape[0], X_test.shape[1], 1)\n"
      ],
      "execution_count": 27,
      "outputs": []
    },
    {
      "cell_type": "code",
      "metadata": {
        "colab": {
          "base_uri": "https://localhost:8080/"
        },
        "id": "DssG5ALkpmeT",
        "outputId": "8bd7d058-fa79-412e-9f8a-87fd2151495b"
      },
      "source": [
        "X_train.shape, X_test.shape"
      ],
      "execution_count": 28,
      "outputs": [
        {
          "output_type": "execute_result",
          "data": {
            "text/plain": [
              "((294, 30, 1), (74, 30, 1))"
            ]
          },
          "metadata": {
            "tags": []
          },
          "execution_count": 28
        }
      ]
    },
    {
      "cell_type": "code",
      "metadata": {
        "colab": {
          "base_uri": "https://localhost:8080/"
        },
        "id": "PheGshhUp0P0",
        "outputId": "1645c868-0a4c-43fe-aab3-9a6c0129e51c"
      },
      "source": [
        "import tensorflow as tf\n",
        "from tensorflow import keras\n",
        "from tensorflow.keras import Sequential\n",
        "from tensorflow.keras.layers import Flatten, Dense, Dropout, BatchNormalization\n",
        "from tensorflow.keras.layers import Conv1D, MaxPool1D\n",
        "from tensorflow.keras.optimizers import Adam\n",
        "print(tf.__version__)"
      ],
      "execution_count": 29,
      "outputs": [
        {
          "output_type": "stream",
          "text": [
            "2.4.1\n"
          ],
          "name": "stdout"
        }
      ]
    },
    {
      "cell_type": "code",
      "metadata": {
        "id": "OE4jWRPPp0Sh"
      },
      "source": [
        "epochs = 20\n",
        "model = Sequential()\n",
        "model.add(Conv1D(32, 2, activation='relu', input_shape = X_train[0].shape))\n",
        "model.add(BatchNormalization())\n",
        "model.add(Dropout(0.2))\n",
        "\n",
        "model.add(Conv1D(64, 2, activation='relu'))\n",
        "model.add(BatchNormalization())\n",
        "model.add(Dropout(0.5))\n",
        "\n",
        "model.add(Flatten())\n",
        "model.add(Dense(64, activation='relu'))\n",
        "model.add(Dropout(0.5))\n",
        "\n",
        "model.add(Dense(1, activation='sigmoid'))\n"
      ],
      "execution_count": 30,
      "outputs": []
    },
    {
      "cell_type": "code",
      "metadata": {
        "colab": {
          "base_uri": "https://localhost:8080/"
        },
        "id": "epfM57svp0VN",
        "outputId": "45924a6c-5cbb-46d8-b66f-99b9f4cfee0b"
      },
      "source": [
        "model.summary()"
      ],
      "execution_count": 31,
      "outputs": [
        {
          "output_type": "stream",
          "text": [
            "Model: \"sequential\"\n",
            "_________________________________________________________________\n",
            "Layer (type)                 Output Shape              Param #   \n",
            "=================================================================\n",
            "conv1d (Conv1D)              (None, 29, 32)            96        \n",
            "_________________________________________________________________\n",
            "batch_normalization (BatchNo (None, 29, 32)            128       \n",
            "_________________________________________________________________\n",
            "dropout (Dropout)            (None, 29, 32)            0         \n",
            "_________________________________________________________________\n",
            "conv1d_1 (Conv1D)            (None, 28, 64)            4160      \n",
            "_________________________________________________________________\n",
            "batch_normalization_1 (Batch (None, 28, 64)            256       \n",
            "_________________________________________________________________\n",
            "dropout_1 (Dropout)          (None, 28, 64)            0         \n",
            "_________________________________________________________________\n",
            "flatten (Flatten)            (None, 1792)              0         \n",
            "_________________________________________________________________\n",
            "dense (Dense)                (None, 64)                114752    \n",
            "_________________________________________________________________\n",
            "dropout_2 (Dropout)          (None, 64)                0         \n",
            "_________________________________________________________________\n",
            "dense_1 (Dense)              (None, 1)                 65        \n",
            "=================================================================\n",
            "Total params: 119,457\n",
            "Trainable params: 119,265\n",
            "Non-trainable params: 192\n",
            "_________________________________________________________________\n"
          ],
          "name": "stdout"
        }
      ]
    },
    {
      "cell_type": "code",
      "metadata": {
        "id": "PxRyI891p0X9"
      },
      "source": [
        "model.compile(optimizer=Adam(lr=0.0001), loss = 'binary_crossentropy', metrics=['accuracy'])"
      ],
      "execution_count": 32,
      "outputs": []
    },
    {
      "cell_type": "code",
      "metadata": {
        "colab": {
          "base_uri": "https://localhost:8080/"
        },
        "id": "NruDnLVlp0b0",
        "outputId": "700b8188-01f8-4d78-9475-1dc9aaa6e039"
      },
      "source": [
        "history = model.fit(X_train, y_train, epochs=epochs, validation_data=(X_test, y_test), verbose=1)"
      ],
      "execution_count": 33,
      "outputs": [
        {
          "output_type": "stream",
          "text": [
            "Epoch 1/20\n",
            "10/10 [==============================] - 2s 39ms/step - loss: 1.2459 - accuracy: 0.4910 - val_loss: 0.6576 - val_accuracy: 0.6486\n",
            "Epoch 2/20\n",
            "10/10 [==============================] - 0s 13ms/step - loss: 0.6538 - accuracy: 0.7520 - val_loss: 0.6297 - val_accuracy: 0.7432\n",
            "Epoch 3/20\n",
            "10/10 [==============================] - 0s 12ms/step - loss: 0.5710 - accuracy: 0.7639 - val_loss: 0.6064 - val_accuracy: 0.7838\n",
            "Epoch 4/20\n",
            "10/10 [==============================] - 0s 13ms/step - loss: 0.5476 - accuracy: 0.7658 - val_loss: 0.5886 - val_accuracy: 0.7838\n",
            "Epoch 5/20\n",
            "10/10 [==============================] - 0s 12ms/step - loss: 0.2949 - accuracy: 0.8706 - val_loss: 0.5749 - val_accuracy: 0.8243\n",
            "Epoch 6/20\n",
            "10/10 [==============================] - 0s 12ms/step - loss: 0.5029 - accuracy: 0.7935 - val_loss: 0.5607 - val_accuracy: 0.8514\n",
            "Epoch 7/20\n",
            "10/10 [==============================] - 0s 12ms/step - loss: 0.4278 - accuracy: 0.8200 - val_loss: 0.5461 - val_accuracy: 0.8649\n",
            "Epoch 8/20\n",
            "10/10 [==============================] - 0s 12ms/step - loss: 0.3548 - accuracy: 0.8540 - val_loss: 0.5336 - val_accuracy: 0.8784\n",
            "Epoch 9/20\n",
            "10/10 [==============================] - 0s 12ms/step - loss: 0.2983 - accuracy: 0.8848 - val_loss: 0.5242 - val_accuracy: 0.8919\n",
            "Epoch 10/20\n",
            "10/10 [==============================] - 0s 12ms/step - loss: 0.2948 - accuracy: 0.8903 - val_loss: 0.5198 - val_accuracy: 0.8649\n",
            "Epoch 11/20\n",
            "10/10 [==============================] - 0s 12ms/step - loss: 0.3126 - accuracy: 0.8879 - val_loss: 0.5073 - val_accuracy: 0.8649\n",
            "Epoch 12/20\n",
            "10/10 [==============================] - 0s 12ms/step - loss: 0.2056 - accuracy: 0.9102 - val_loss: 0.4963 - val_accuracy: 0.8649\n",
            "Epoch 13/20\n",
            "10/10 [==============================] - 0s 13ms/step - loss: 0.2404 - accuracy: 0.8934 - val_loss: 0.4890 - val_accuracy: 0.8514\n",
            "Epoch 14/20\n",
            "10/10 [==============================] - 0s 13ms/step - loss: 0.2199 - accuracy: 0.9296 - val_loss: 0.4758 - val_accuracy: 0.8784\n",
            "Epoch 15/20\n",
            "10/10 [==============================] - 0s 12ms/step - loss: 0.2334 - accuracy: 0.9284 - val_loss: 0.4634 - val_accuracy: 0.8784\n",
            "Epoch 16/20\n",
            "10/10 [==============================] - 0s 12ms/step - loss: 0.2256 - accuracy: 0.9065 - val_loss: 0.4477 - val_accuracy: 0.8784\n",
            "Epoch 17/20\n",
            "10/10 [==============================] - 0s 12ms/step - loss: 0.2394 - accuracy: 0.9227 - val_loss: 0.4341 - val_accuracy: 0.8919\n",
            "Epoch 18/20\n",
            "10/10 [==============================] - 0s 12ms/step - loss: 0.2975 - accuracy: 0.9329 - val_loss: 0.4212 - val_accuracy: 0.8919\n",
            "Epoch 19/20\n",
            "10/10 [==============================] - 0s 14ms/step - loss: 0.1911 - accuracy: 0.9233 - val_loss: 0.4084 - val_accuracy: 0.8919\n",
            "Epoch 20/20\n",
            "10/10 [==============================] - 0s 12ms/step - loss: 0.2455 - accuracy: 0.9154 - val_loss: 0.3879 - val_accuracy: 0.9189\n"
          ],
          "name": "stdout"
        }
      ]
    },
    {
      "cell_type": "code",
      "metadata": {
        "id": "aNq5nJ-2p0dt"
      },
      "source": [
        "def plot_learningCurve(history, epoch):\n",
        "  # Plot training & validation accuracy values\n",
        "  epoch_range = range(1, epoch+1)\n",
        "  plt.plot(epoch_range, history.history['accuracy'])\n",
        "  plt.plot(epoch_range, history.history['val_accuracy'])\n",
        "  plt.title('Model accuracy')\n",
        "  plt.ylabel('Accuracy')\n",
        "  plt.xlabel('Epoch')\n",
        "  plt.legend(['Train', 'Val'], loc='upper left')\n",
        "  plt.show()\n",
        "\n",
        "  # Plot training & validation loss values\n",
        "  plt.plot(epoch_range, history.history['loss'])\n",
        "  plt.plot(epoch_range, history.history['val_loss'])\n",
        "  plt.title('Model loss')\n",
        "  plt.ylabel('Loss')\n",
        "  plt.xlabel('Epoch')\n",
        "  plt.legend(['Train', 'Val'], loc='upper left')\n",
        "  plt.show()"
      ],
      "execution_count": 34,
      "outputs": []
    },
    {
      "cell_type": "code",
      "metadata": {
        "id": "Y83OKULVp0it"
      },
      "source": [
        "plot_learningCurve(history, epochs)"
      ],
      "execution_count": null,
      "outputs": []
    },
    {
      "cell_type": "code",
      "metadata": {
        "colab": {
          "base_uri": "https://localhost:8080/",
          "height": 1000
        },
        "id": "EqkUNZH5p0ot",
        "outputId": "7d26b58f-7a06-4140-929d-88ad98f416b3"
      },
      "source": [
        "epochs = 50\n",
        "model = Sequential()\n",
        "model.add(Conv1D(32, 2, activation='relu', input_shape = X_train[0].shape))\n",
        "model.add(BatchNormalization())\n",
        "model.add(MaxPool1D(2))\n",
        "model.add(Dropout(0.2))\n",
        "\n",
        "model.add(Conv1D(64, 2, activation='relu'))\n",
        "model.add(BatchNormalization())\n",
        "model.add(MaxPool1D(2))\n",
        "model.add(Dropout(0.5))\n",
        "\n",
        "model.add(Flatten())\n",
        "model.add(Dense(64, activation='relu'))\n",
        "model.add(Dropout(0.5))\n",
        "\n",
        "model.add(Dense(1, activation='sigmoid'))\n",
        "\n",
        "model.compile(optimizer=Adam(lr=0.0001), loss = 'binary_crossentropy', metrics=['accuracy'])\n",
        "history = model.fit(X_train, y_train, epochs=epochs, validation_data=(X_test, y_test), verbose=1)\n",
        "plot_learningCurve(history, epochs)"
      ],
      "execution_count": 36,
      "outputs": [
        {
          "output_type": "stream",
          "text": [
            "Epoch 1/50\n",
            "10/10 [==============================] - 1s 30ms/step - loss: 1.2361 - accuracy: 0.5305 - val_loss: 0.6574 - val_accuracy: 0.7162\n",
            "Epoch 2/50\n",
            "10/10 [==============================] - 0s 10ms/step - loss: 1.0460 - accuracy: 0.5787 - val_loss: 0.6417 - val_accuracy: 0.7568\n",
            "Epoch 3/50\n",
            "10/10 [==============================] - 0s 9ms/step - loss: 0.7468 - accuracy: 0.7026 - val_loss: 0.6290 - val_accuracy: 0.7703\n",
            "Epoch 4/50\n",
            "10/10 [==============================] - 0s 10ms/step - loss: 0.8456 - accuracy: 0.6531 - val_loss: 0.6165 - val_accuracy: 0.7432\n",
            "Epoch 5/50\n",
            "10/10 [==============================] - 0s 9ms/step - loss: 0.6632 - accuracy: 0.7526 - val_loss: 0.6045 - val_accuracy: 0.7432\n",
            "Epoch 6/50\n",
            "10/10 [==============================] - 0s 9ms/step - loss: 0.6724 - accuracy: 0.7027 - val_loss: 0.5929 - val_accuracy: 0.7297\n",
            "Epoch 7/50\n",
            "10/10 [==============================] - 0s 10ms/step - loss: 0.6395 - accuracy: 0.7244 - val_loss: 0.5827 - val_accuracy: 0.7432\n",
            "Epoch 8/50\n",
            "10/10 [==============================] - 0s 9ms/step - loss: 0.6023 - accuracy: 0.7576 - val_loss: 0.5724 - val_accuracy: 0.7432\n",
            "Epoch 9/50\n",
            "10/10 [==============================] - 0s 10ms/step - loss: 0.6447 - accuracy: 0.7222 - val_loss: 0.5607 - val_accuracy: 0.7432\n",
            "Epoch 10/50\n",
            "10/10 [==============================] - 0s 9ms/step - loss: 0.5423 - accuracy: 0.7993 - val_loss: 0.5491 - val_accuracy: 0.7432\n",
            "Epoch 11/50\n",
            "10/10 [==============================] - 0s 9ms/step - loss: 0.5055 - accuracy: 0.7875 - val_loss: 0.5375 - val_accuracy: 0.7568\n",
            "Epoch 12/50\n",
            "10/10 [==============================] - 0s 10ms/step - loss: 0.5060 - accuracy: 0.8199 - val_loss: 0.5256 - val_accuracy: 0.7568\n",
            "Epoch 13/50\n",
            "10/10 [==============================] - 0s 9ms/step - loss: 0.4454 - accuracy: 0.8396 - val_loss: 0.5146 - val_accuracy: 0.7568\n",
            "Epoch 14/50\n",
            "10/10 [==============================] - 0s 9ms/step - loss: 0.4891 - accuracy: 0.8568 - val_loss: 0.5033 - val_accuracy: 0.7568\n",
            "Epoch 15/50\n",
            "10/10 [==============================] - 0s 9ms/step - loss: 0.3883 - accuracy: 0.8620 - val_loss: 0.4921 - val_accuracy: 0.7838\n",
            "Epoch 16/50\n",
            "10/10 [==============================] - 0s 9ms/step - loss: 0.4009 - accuracy: 0.8270 - val_loss: 0.4811 - val_accuracy: 0.8108\n",
            "Epoch 17/50\n",
            "10/10 [==============================] - 0s 9ms/step - loss: 0.4217 - accuracy: 0.8455 - val_loss: 0.4703 - val_accuracy: 0.8108\n",
            "Epoch 18/50\n",
            "10/10 [==============================] - 0s 9ms/step - loss: 0.3509 - accuracy: 0.8466 - val_loss: 0.4599 - val_accuracy: 0.8243\n",
            "Epoch 19/50\n",
            "10/10 [==============================] - 0s 9ms/step - loss: 0.3995 - accuracy: 0.8648 - val_loss: 0.4510 - val_accuracy: 0.8243\n",
            "Epoch 20/50\n",
            "10/10 [==============================] - 0s 9ms/step - loss: 0.3941 - accuracy: 0.8455 - val_loss: 0.4418 - val_accuracy: 0.8243\n",
            "Epoch 21/50\n",
            "10/10 [==============================] - 0s 9ms/step - loss: 0.4030 - accuracy: 0.8361 - val_loss: 0.4326 - val_accuracy: 0.8243\n",
            "Epoch 22/50\n",
            "10/10 [==============================] - 0s 9ms/step - loss: 0.3795 - accuracy: 0.8322 - val_loss: 0.4252 - val_accuracy: 0.8243\n",
            "Epoch 23/50\n",
            "10/10 [==============================] - 0s 9ms/step - loss: 0.4061 - accuracy: 0.8402 - val_loss: 0.4184 - val_accuracy: 0.8108\n",
            "Epoch 24/50\n",
            "10/10 [==============================] - 0s 9ms/step - loss: 0.4007 - accuracy: 0.8675 - val_loss: 0.4124 - val_accuracy: 0.8108\n",
            "Epoch 25/50\n",
            "10/10 [==============================] - 0s 9ms/step - loss: 0.2771 - accuracy: 0.8803 - val_loss: 0.4063 - val_accuracy: 0.8108\n",
            "Epoch 26/50\n",
            "10/10 [==============================] - 0s 9ms/step - loss: 0.3358 - accuracy: 0.8720 - val_loss: 0.4012 - val_accuracy: 0.8108\n",
            "Epoch 27/50\n",
            "10/10 [==============================] - 0s 9ms/step - loss: 0.3385 - accuracy: 0.8839 - val_loss: 0.3984 - val_accuracy: 0.8108\n",
            "Epoch 28/50\n",
            "10/10 [==============================] - 0s 10ms/step - loss: 0.3880 - accuracy: 0.8443 - val_loss: 0.3948 - val_accuracy: 0.8108\n",
            "Epoch 29/50\n",
            "10/10 [==============================] - 0s 9ms/step - loss: 0.3215 - accuracy: 0.8793 - val_loss: 0.3932 - val_accuracy: 0.8108\n",
            "Epoch 30/50\n",
            "10/10 [==============================] - 0s 9ms/step - loss: 0.3099 - accuracy: 0.8534 - val_loss: 0.3917 - val_accuracy: 0.8108\n",
            "Epoch 31/50\n",
            "10/10 [==============================] - 0s 9ms/step - loss: 0.2585 - accuracy: 0.9134 - val_loss: 0.3892 - val_accuracy: 0.8108\n",
            "Epoch 32/50\n",
            "10/10 [==============================] - 0s 10ms/step - loss: 0.3020 - accuracy: 0.8798 - val_loss: 0.3868 - val_accuracy: 0.8243\n",
            "Epoch 33/50\n",
            "10/10 [==============================] - 0s 9ms/step - loss: 0.3677 - accuracy: 0.8682 - val_loss: 0.3846 - val_accuracy: 0.8243\n",
            "Epoch 34/50\n",
            "10/10 [==============================] - 0s 9ms/step - loss: 0.3130 - accuracy: 0.8842 - val_loss: 0.3813 - val_accuracy: 0.8243\n",
            "Epoch 35/50\n",
            "10/10 [==============================] - 0s 10ms/step - loss: 0.3237 - accuracy: 0.8870 - val_loss: 0.3777 - val_accuracy: 0.8243\n",
            "Epoch 36/50\n",
            "10/10 [==============================] - 0s 9ms/step - loss: 0.3445 - accuracy: 0.8799 - val_loss: 0.3765 - val_accuracy: 0.8243\n",
            "Epoch 37/50\n",
            "10/10 [==============================] - 0s 9ms/step - loss: 0.2547 - accuracy: 0.9179 - val_loss: 0.3757 - val_accuracy: 0.8243\n",
            "Epoch 38/50\n",
            "10/10 [==============================] - 0s 9ms/step - loss: 0.2994 - accuracy: 0.9001 - val_loss: 0.3748 - val_accuracy: 0.8378\n",
            "Epoch 39/50\n",
            "10/10 [==============================] - 0s 11ms/step - loss: 0.2520 - accuracy: 0.9096 - val_loss: 0.3741 - val_accuracy: 0.8378\n",
            "Epoch 40/50\n",
            "10/10 [==============================] - 0s 10ms/step - loss: 0.2843 - accuracy: 0.8970 - val_loss: 0.3751 - val_accuracy: 0.8378\n",
            "Epoch 41/50\n",
            "10/10 [==============================] - 0s 9ms/step - loss: 0.2666 - accuracy: 0.9119 - val_loss: 0.3750 - val_accuracy: 0.8378\n",
            "Epoch 42/50\n",
            "10/10 [==============================] - 0s 9ms/step - loss: 0.2350 - accuracy: 0.9010 - val_loss: 0.3754 - val_accuracy: 0.8514\n",
            "Epoch 43/50\n",
            "10/10 [==============================] - 0s 10ms/step - loss: 0.2499 - accuracy: 0.9161 - val_loss: 0.3750 - val_accuracy: 0.8514\n",
            "Epoch 44/50\n",
            "10/10 [==============================] - 0s 10ms/step - loss: 0.3639 - accuracy: 0.8784 - val_loss: 0.3741 - val_accuracy: 0.8514\n",
            "Epoch 45/50\n",
            "10/10 [==============================] - 0s 10ms/step - loss: 0.3002 - accuracy: 0.8926 - val_loss: 0.3745 - val_accuracy: 0.8514\n",
            "Epoch 46/50\n",
            "10/10 [==============================] - 0s 11ms/step - loss: 0.2597 - accuracy: 0.8873 - val_loss: 0.3725 - val_accuracy: 0.8514\n",
            "Epoch 47/50\n",
            "10/10 [==============================] - 0s 9ms/step - loss: 0.3488 - accuracy: 0.8953 - val_loss: 0.3706 - val_accuracy: 0.8514\n",
            "Epoch 48/50\n",
            "10/10 [==============================] - 0s 10ms/step - loss: 0.1948 - accuracy: 0.9149 - val_loss: 0.3706 - val_accuracy: 0.8514\n",
            "Epoch 49/50\n",
            "10/10 [==============================] - 0s 12ms/step - loss: 0.2459 - accuracy: 0.9019 - val_loss: 0.3710 - val_accuracy: 0.8514\n",
            "Epoch 50/50\n",
            "10/10 [==============================] - 0s 9ms/step - loss: 0.3366 - accuracy: 0.8878 - val_loss: 0.3711 - val_accuracy: 0.8514\n"
          ],
          "name": "stdout"
        },
        {
          "output_type": "display_data",
          "data": {
            "image/png": "[encoded data removed]",
            "text/plain": [
              "<Figure size 432x288 with 1 Axes>"
            ]
          },
          "metadata": {
            "tags": [],
            "needs_background": "light"
          }
        },
        {
          "output_type": "display_data",
          "data": {
            "image/png": "[encoded data removed]",
            "text/plain": [
              "<Figure size 432x288 with 1 Axes>"
            ]
          },
          "metadata": {
            "tags": [],
            "needs_background": "light"
          }
        }
      ]
    }
  ]
}